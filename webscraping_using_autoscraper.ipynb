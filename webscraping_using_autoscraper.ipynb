{
 "cells": [
  {
   "cell_type": "markdown",
   "metadata": {},
   "source": [
    "- AutoScraper: A Smart, Automatic, Fast and Lightweight Web Scraper for Python\n",
    "\n",
    "- scrap amazon e-commerce website to find descriptive stats of prices of Samsung phones"
   ]
  },
  {
   "cell_type": "code",
   "execution_count": 32,
   "metadata": {},
   "outputs": [],
   "source": [
    "from autoscraper import AutoScraper\n"
   ]
  },
  {
   "cell_type": "code",
   "execution_count": 33,
   "metadata": {},
   "outputs": [],
   "source": [
    "amazon_url = \"https://www.amazon.com/s?k=iphones&ref=nb_sb_noss_2\" #url for iphones in amazon\n",
    "wanted_list =['$542.00','Apple iPhone 11, 64GB, Black - Fully Unlocked (Renewed)']"
   ]
  },
  {
   "cell_type": "code",
   "execution_count": 34,
   "metadata": {},
   "outputs": [
    {
     "data": {
      "text/plain": [
       "['$141.57',\n",
       " '$186.00',\n",
       " '$542.00',\n",
       " '$354.99',\n",
       " '$284.99',\n",
       " '$327.00',\n",
       " '$738.00',\n",
       " '$614.00',\n",
       " '$629.00',\n",
       " '$364.99',\n",
       " '$544.00',\n",
       " '$859.99',\n",
       " '$358.94',\n",
       " '$1,080.00',\n",
       " '$1,250.00',\n",
       " '$155.00',\n",
       " 'Apple iPhone 7, 32GB, Silver - For GSM (Renewed)',\n",
       " 'Apple iPhone 8, 64GB, Space Gray - Fully Unlocked (Renewed)',\n",
       " 'Apple iPhone 11, 64GB, Black - Fully Unlocked (Renewed)',\n",
       " 'Apple iPhone XR, 64GB, Black - Fully Unlocked (Renewed)',\n",
       " 'Apple iPhone 8 Plus, 64GB, Space Gray - Fully Unlocked (Renewed)',\n",
       " 'Apple iPhone X, 64GB, Space Gray - Fully Unlocked (Renewed)',\n",
       " 'Apple iPhone 12, 64GB, Blue - Fully Unlocked (Renewed)',\n",
       " 'Apple iPhone 12 Mini, 64GB, Black - Fully Unlocked (Renewed)',\n",
       " 'Apple iPhone 11 Pro, 64GB, Midnight Green - Fully Unlocked (Renewed)',\n",
       " 'Apple iPhone XS, 64GB, Space Gray - Fully Unlocked (Renewed)',\n",
       " 'Apple iPhone XS Max, 256GB, Space Gray - Fully Unlocked (Renewed Premium)',\n",
       " 'Apple iPhone 11 Pro Max, 256GB, Midnight Green, Fully Unlocked (Renewed)',\n",
       " 'Apple iPhone XR, 64GB, Red for T-Mobile (Renewed)',\n",
       " 'Apple iPhone 12 Pro, 128GB, Pacific Blue - Fully Unlocked (Renewed)',\n",
       " 'Apple iPhone 7 a1778, GSM Unlocked, 32GB (Renewed)',\n",
       " 'Apple iPhone 8, 64GB, Silver - Fully Unlocked (Renewed)']"
      ]
     },
     "execution_count": 34,
     "metadata": {},
     "output_type": "execute_result"
    }
   ],
   "source": [
    "scarper = AutoScraper()\n",
    "result = scarper.build(amazon_url,wanted_list)\n",
    "result"
   ]
  },
  {
   "cell_type": "code",
   "execution_count": 35,
   "metadata": {},
   "outputs": [
    {
     "data": {
      "text/plain": [
       "{'rule_8r4t': ['$186.00',\n",
       "  '$534.00',\n",
       "  '$709.99',\n",
       "  '$327.00',\n",
       "  '$859.99',\n",
       "  '$379.00',\n",
       "  '$738.00',\n",
       "  '$639.00',\n",
       "  '$1,080.00',\n",
       "  '$1,250.00',\n",
       "  '$181.14',\n",
       "  '$449.97',\n",
       "  '$155.00',\n",
       "  '$346.72',\n",
       "  '$544.00',\n",
       "  '$292.99'],\n",
       " 'rule_8jky': ['$186.00',\n",
       "  '$534.00',\n",
       "  '$709.99',\n",
       "  '$327.00',\n",
       "  '$859.99',\n",
       "  '$379.00',\n",
       "  '$738.00',\n",
       "  '$639.00',\n",
       "  '$1,080.00',\n",
       "  '$1,250.00',\n",
       "  '$181.14',\n",
       "  '$449.97',\n",
       "  '$155.00',\n",
       "  '$346.72',\n",
       "  '$544.00',\n",
       "  '$292.99'],\n",
       " 'rule_opr3': [],\n",
       " 'rule_y0fy': ['Apple iPhone 8, 64GB, Space Gray - Fully Unlocked (Renewed)',\n",
       "  'Apple iPhone 11, 64GB, Purple - Fully Unlocked (Renewed)',\n",
       "  'Apple iPhone X, 64GB, Space Gray - Fully Unlocked (Renewed)',\n",
       "  'Apple iPhone 11 Pro Max, 256GB, Midnight Green, Fully Unlocked (Renewed)',\n",
       "  'Apple iPhone XS, 64GB, Space Gray - For Verizon (Renewed)',\n",
       "  'Apple iPhone 8 Plus, 64GB, Gold - Fully Unlocked (Renewed)',\n",
       "  'Apple iPhone 12, 64GB, Blue - Fully Unlocked (Renewed)',\n",
       "  'Apple iPhone 11 Pro, 64GB, Gold - Fully Unlocked (Renewed)',\n",
       "  'Apple iPhone 8, 64GB, Silver - Fully Unlocked (Renewed)',\n",
       "  'Apple iPhone 12 Pro, 128GB, Pacific Blue - Fully Unlocked (Renewed)',\n",
       "  'Apple iPhone 8 a1905 64GB LTE GSM Unlocked (Renewed)',\n",
       "  'Apple iPhone XR, 128GB, Black - Fully Unlocked (Renewed)',\n",
       "  'Apple iPhone 7 a1778, GSM Unlocked, 32GB (Renewed)',\n",
       "  'Apple iPhone X, 64GB, Silver - For T-Mobile (Renewed)',\n",
       "  'Apple iPhone XS Max, 256GB, Space Gray - Fully Unlocked (Renewed Premium)',\n",
       "  'Apple iPhone SE, 64GB, White - Fully Unlocked (Renewed)']}"
      ]
     },
     "execution_count": 35,
     "metadata": {},
     "output_type": "execute_result"
    }
   ],
   "source": [
    "scarper.get_result_similar(amazon_url,grouped=True)#group our result into a dict"
   ]
  },
  {
   "cell_type": "code",
   "execution_count": 36,
   "metadata": {},
   "outputs": [],
   "source": [
    "scarper.set_rule_aliases({'rule_opr3':'Description','rule_y0fy':'Description','rule_8r4t':'Price',\n",
    "                          'rule_8jky':'Price'})"
   ]
  },
  {
   "cell_type": "code",
   "execution_count": 37,
   "metadata": {},
   "outputs": [],
   "source": [
    "scarper.keep_rules(['rule_opr3','rule_y0fy','rule_8r4t','rule_8jky'])\n",
    "scarper.save('amazon_iphones_search')"
   ]
  },
  {
   "cell_type": "code",
   "execution_count": 38,
   "metadata": {},
   "outputs": [],
   "source": [
    "# get samsung ph description from amazon using similar alias\n",
    "amazon_samsung = 'https://www.amazon.com/s?k=samsung+phones&crid=2TH3PADH2PXS4&sprefix=samsung+pho%2Caps%2C225&ref=nb_sb_ss_ts-doa-p_1_11'\n",
    "results_search = scarper.get_result_similar(amazon_samsung,group_by_alias=True)"
   ]
  },
  {
   "cell_type": "code",
   "execution_count": 40,
   "metadata": {},
   "outputs": [
    {
     "data": {
      "text/plain": [
       "['$265.00',\n",
       " '$265.00',\n",
       " '$349.99',\n",
       " '$349.99',\n",
       " '$189.00',\n",
       " '$189.00',\n",
       " '$349.00',\n",
       " '$349.00',\n",
       " '$849.99',\n",
       " '$849.99',\n",
       " '$214.00',\n",
       " '$214.00',\n",
       " '$399.99',\n",
       " '$399.99',\n",
       " '$198.47',\n",
       " '$198.47',\n",
       " '$165.50',\n",
       " '$165.50',\n",
       " '$498.00',\n",
       " '$498.00',\n",
       " '$145.47',\n",
       " '$145.47',\n",
       " '$79.99',\n",
       " '$79.99',\n",
       " '$184.00',\n",
       " '$184.00',\n",
       " '$101.38',\n",
       " '$101.38',\n",
       " '$111.19',\n",
       " '$111.19',\n",
       " '$338.00',\n",
       " '$338.00',\n",
       " '$369.99',\n",
       " '$369.99',\n",
       " '$135.00',\n",
       " '$135.00']"
      ]
     },
     "execution_count": 40,
     "metadata": {},
     "output_type": "execute_result"
    }
   ],
   "source": [
    "results_search['Price']"
   ]
  },
  {
   "cell_type": "code",
   "execution_count": 45,
   "metadata": {},
   "outputs": [],
   "source": [
    "import pandas as pd \n",
    "results_search_df = pd.DataFrame({'Price_$': results_search['Price']}\n",
    "                                  )"
   ]
  },
  {
   "cell_type": "code",
   "execution_count": 46,
   "metadata": {},
   "outputs": [
    {
     "data": {
      "text/html": [
       "<div>\n",
       "<style scoped>\n",
       "    .dataframe tbody tr th:only-of-type {\n",
       "        vertical-align: middle;\n",
       "    }\n",
       "\n",
       "    .dataframe tbody tr th {\n",
       "        vertical-align: top;\n",
       "    }\n",
       "\n",
       "    .dataframe thead th {\n",
       "        text-align: right;\n",
       "    }\n",
       "</style>\n",
       "<table border=\"1\" class=\"dataframe\">\n",
       "  <thead>\n",
       "    <tr style=\"text-align: right;\">\n",
       "      <th></th>\n",
       "      <th>Price_$</th>\n",
       "    </tr>\n",
       "  </thead>\n",
       "  <tbody>\n",
       "    <tr>\n",
       "      <th>0</th>\n",
       "      <td>$265.00</td>\n",
       "    </tr>\n",
       "    <tr>\n",
       "      <th>1</th>\n",
       "      <td>$265.00</td>\n",
       "    </tr>\n",
       "    <tr>\n",
       "      <th>2</th>\n",
       "      <td>$349.99</td>\n",
       "    </tr>\n",
       "    <tr>\n",
       "      <th>3</th>\n",
       "      <td>$349.99</td>\n",
       "    </tr>\n",
       "    <tr>\n",
       "      <th>4</th>\n",
       "      <td>$189.00</td>\n",
       "    </tr>\n",
       "  </tbody>\n",
       "</table>\n",
       "</div>"
      ],
      "text/plain": [
       "   Price_$\n",
       "0  $265.00\n",
       "1  $265.00\n",
       "2  $349.99\n",
       "3  $349.99\n",
       "4  $189.00"
      ]
     },
     "execution_count": 46,
     "metadata": {},
     "output_type": "execute_result"
    }
   ],
   "source": [
    "results_search_df.head()"
   ]
  },
  {
   "cell_type": "markdown",
   "metadata": {},
   "source": [
    "- we can find descriptive stat of samsung phones using the above info"
   ]
  },
  {
   "cell_type": "code",
   "execution_count": 53,
   "metadata": {},
   "outputs": [
    {
     "data": {
      "text/html": [
       "<div>\n",
       "<style scoped>\n",
       "    .dataframe tbody tr th:only-of-type {\n",
       "        vertical-align: middle;\n",
       "    }\n",
       "\n",
       "    .dataframe tbody tr th {\n",
       "        vertical-align: top;\n",
       "    }\n",
       "\n",
       "    .dataframe thead th {\n",
       "        text-align: right;\n",
       "    }\n",
       "</style>\n",
       "<table border=\"1\" class=\"dataframe\">\n",
       "  <thead>\n",
       "    <tr style=\"text-align: right;\">\n",
       "      <th></th>\n",
       "      <th>Price</th>\n",
       "    </tr>\n",
       "  </thead>\n",
       "  <tbody>\n",
       "    <tr>\n",
       "      <th>0</th>\n",
       "      <td>265.00</td>\n",
       "    </tr>\n",
       "    <tr>\n",
       "      <th>1</th>\n",
       "      <td>265.00</td>\n",
       "    </tr>\n",
       "    <tr>\n",
       "      <th>2</th>\n",
       "      <td>349.99</td>\n",
       "    </tr>\n",
       "    <tr>\n",
       "      <th>3</th>\n",
       "      <td>349.99</td>\n",
       "    </tr>\n",
       "    <tr>\n",
       "      <th>4</th>\n",
       "      <td>189.00</td>\n",
       "    </tr>\n",
       "  </tbody>\n",
       "</table>\n",
       "</div>"
      ],
      "text/plain": [
       "    Price\n",
       "0  265.00\n",
       "1  265.00\n",
       "2  349.99\n",
       "3  349.99\n",
       "4  189.00"
      ]
     },
     "execution_count": 53,
     "metadata": {},
     "output_type": "execute_result"
    }
   ],
   "source": [
    "price_split = results_search_df['Price_$'].str.split('$',expand=True)\n",
    "results_search_df = results_search_df.assign(\n",
    "                    Price=price_split[1])\n",
    "\n",
    "results_search_df.drop('Price_$',axis=1,inplace=True)\n",
    "results_search_df.head()"
   ]
  },
  {
   "cell_type": "code",
   "execution_count": 56,
   "metadata": {},
   "outputs": [
    {
     "data": {
      "text/plain": [
       "count     36.000000\n",
       "mean     274.664444\n",
       "std      183.425221\n",
       "min       79.990000\n",
       "25%      145.470000\n",
       "50%      206.235000\n",
       "75%      349.990000\n",
       "max      849.990000\n",
       "Name: Price, dtype: float64"
      ]
     },
     "execution_count": 56,
     "metadata": {},
     "output_type": "execute_result"
    }
   ],
   "source": [
    "results_search_df.Price = results_search_df.Price.astype('float')\n",
    "results_search_df.Price.describe()"
   ]
  },
  {
   "cell_type": "code",
   "execution_count": 58,
   "metadata": {},
   "outputs": [
    {
     "data": {
      "image/png": "[encoded data removed]",
      "text/plain": [
       "<Figure size 432x288 with 1 Axes>"
      ]
     },
     "metadata": {},
     "output_type": "display_data"
    }
   ],
   "source": [
    "import matplotlib.pyplot as plt \n",
    "import seaborn as sns\n",
    "sns.set_style('whitegrid')\n",
    "sns.boxplot(y=results_search_df.Price,showmeans=True)\n",
    "plt.show()"
   ]
  },
  {
   "cell_type": "code",
   "execution_count": 59,
   "metadata": {},
   "outputs": [
    {
     "data": {
      "image/png": "[encoded data removed]",
      "text/plain": [
       "<Figure size 432x288 with 1 Axes>"
      ]
     },
     "metadata": {},
     "output_type": "display_data"
    }
   ],
   "source": [
    "sns.distplot(results_search_df.Price)\n",
    "plt.show()"
   ]
  },
  {
   "cell_type": "markdown",
   "metadata": {},
   "source": [
    "- By scraping amazon websit`e we have got descriptive stat of prices of Samsung phones \n",
    "\n",
    "- The distribution is right skewed due presence of models in higher price range\n",
    "- Mean price '$275' and range is from '$79-849'\n",
    "\n"
   ]
  },
  {
   "cell_type": "code",
   "execution_count": null,
   "metadata": {},
   "outputs": [],
   "source": []
  }
 ],
 "metadata": {
  "kernelspec": {
   "display_name": "Python 3",
   "language": "python",
   "name": "python3"
  },
  "language_info": {
   "codemirror_mode": {
    "name": "ipython",
    "version": 3
   },
   "file_extension": ".py",
   "mimetype": "text/x-python",
   "name": "python",
   "nbconvert_exporter": "python",
   "pygments_lexer": "ipython3",
   "version": "3.8.3"
  }
 },
 "nbformat": 4,
 "nbformat_minor": 4
}
